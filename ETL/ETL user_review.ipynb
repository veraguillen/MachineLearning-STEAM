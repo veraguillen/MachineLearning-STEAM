{
 "cells": [
  {
   "cell_type": "code",
   "execution_count": 13,
   "metadata": {},
   "outputs": [
    {
     "name": "stdout",
     "output_type": "stream",
     "text": [
      "Se han cargado 25799 objetos correctamente.\n",
      "[{'user_id': '76561197970982479', 'user_url': 'http://steamcommunity.com/profiles/76561197970982479', 'reviews': [{'funny': '', 'posted': 'Posted November 5, 2011.', 'last_edited': '', 'item_id': '1250', 'helpful': 'No ratings yet', 'recommend': True, 'review': 'Simple yet with great replayability. In my opinion does \"zombie\" hordes and team work better than left 4 dead plus has a global leveling system. Alot of down to earth \"zombie\" splattering fun for the whole family. Amazed this sort of FPS is so rare.'}, {'funny': '', 'posted': 'Posted July 15, 2011.', 'last_edited': '', 'item_id': '22200', 'helpful': 'No ratings yet', 'recommend': True, 'review': \"It's unique and worth a playthrough.\"}, {'funny': '', 'posted': 'Posted April 21, 2011.', 'last_edited': '', 'item_id': '43110', 'helpful': 'No ratings yet', 'recommend': True, 'review': 'Great atmosphere. The gunplay can be a bit chunky at times but at the end of the day this game is definitely worth it and I hope they do a sequel...so buy the game so I get a sequel!'}]}, {'user_id': 'js41637', 'user_url': 'http://steamcommunity.com/id/js41637', 'reviews': [{'funny': '', 'posted': 'Posted June 24, 2014.', 'last_edited': '', 'item_id': '251610', 'helpful': '15 of 20 people (75%) found this review helpful', 'recommend': True, 'review': 'I know what you think when you see this title \"Barbie Dreamhouse Party\" but do not be intimidated by it\\'s title, this is easily one of my GOTYs. You don\\'t get any of that cliche game mechanics that all the latest games have, this is simply good core gameplay. Yes, you can\\'t 360 noscope your friends, but what you can do is show them up with your bad ♥♥♥ dance moves and put them to shame as you show them what true fashion and color combinations are.I know this game says for kids but, this is easily for any age range and any age will have a blast playing this.8/8'}, {'funny': '', 'posted': 'Posted September 8, 2013.', 'last_edited': '', 'item_id': '227300', 'helpful': '0 of 1 people (0%) found this review helpful', 'recommend': True, 'review': \"For a simple (it's actually not all that simple but it can be!) truck driving Simulator, it is quite a fun and relaxing game. Playing on simple (or easy?) its just the basic WASD keys for driving but (if you want) the game can be much harder and realistic with having to manually change gears, much harder turning, etc. And reversing in this game is a ♥♥♥♥♥, as I imagine it would be with an actual truck. Luckily, you don't have to reverse park it but you get extra points if you do cause it is bloody hard. But this is suprisingly a nice truck driving game and I had a bit of fun with it.\"}, {'funny': '', 'posted': 'Posted November 29, 2013.', 'last_edited': '', 'item_id': '239030', 'helpful': '1 of 4 people (25%) found this review helpful', 'recommend': True, 'review': 'Very fun little game to play when your bored or as a time passer. Very gud. Do Recommend. pls buy'}]}, {'user_id': 'evcentric', 'user_url': 'http://steamcommunity.com/id/evcentric', 'reviews': [{'funny': '', 'posted': 'Posted February 3.', 'last_edited': '', 'item_id': '248820', 'helpful': 'No ratings yet', 'recommend': True, 'review': \"A suitably punishing roguelike platformer.  Winning feels good.  Progressive unlocks mean a good slog ending in failure doesn't feel like a waste.\"}, {'funny': '', 'posted': 'Posted December 4, 2015.', 'last_edited': 'Last edited December 5, 2015.', 'item_id': '370360', 'helpful': 'No ratings yet', 'recommend': True, 'review': '\"Run for fun? What the hell kind of fun is that?\"'}, {'funny': '', 'posted': 'Posted November 3, 2014.', 'last_edited': '', 'item_id': '237930', 'helpful': 'No ratings yet', 'recommend': True, 'review': 'Elegant integration of gameplay, story, world development and aesthetic.'}, {'funny': '', 'posted': 'Posted October 15, 2014.', 'last_edited': '', 'item_id': '263360', 'helpful': 'No ratings yet', 'recommend': True, 'review': 'Random drops and random quests, with stat points.  Animation style reminiscent of the era before the Voodoo card.'}, {'funny': '', 'posted': 'Posted October 15, 2014.', 'last_edited': '', 'item_id': '107200', 'helpful': 'No ratings yet', 'recommend': True, 'review': 'Fun balance of tactics and strategy.  Potential for very rewarding battles on smaller maps.  Can become a bit of a grind on larger maps (>200 stars).'}, {'funny': '', 'posted': 'Posted October 15, 2014.', 'last_edited': '', 'item_id': '224500', 'helpful': 'No ratings yet', 'recommend': True, 'review': 'Fun world builder, with plenty of option of how you want challenge served to you.  Gnome pathing sometimes frustrating if you expand very very quickly.'}]}, {'user_id': 'doctr', 'user_url': 'http://steamcommunity.com/id/doctr', 'reviews': [{'funny': '', 'posted': 'Posted October 14, 2013.', 'last_edited': '', 'item_id': '250320', 'helpful': '2 of 2 people (100%) found this review helpful', 'recommend': True, 'review': 'This game... is so fun. The fight sequences have been improved from walking dead. It also includes more of a Sam and Max puzzle solving (some of it in the first episode) and walking dead. The game also gets even more better if you have read the Fables comic books, which are without a doubt, very good. The music is also superb and fit the scenarios very well.'}, {'funny': '', 'posted': 'Posted July 28, 2012.', 'last_edited': '', 'item_id': '20920', 'helpful': '1 of 1 people (100%) found this review helpful', 'recommend': True, 'review': \"Really Really Really Great Game, very good story, im in chapter 1 atm and i think its great. You get a really early link with characters. No need to play the first game, its nicely wrapped up for you in a five minute video. FYI beware of the sex scenes :P, nudity does happen in the game and it shows you actually having sex, so try not to play with your parents around if your near a point in the story. Also you will need a good rig/comp to play on high. Don't even try running the game on Ultra unless you have mulitiple GPU's (Graphics card) and ram and a good processor. All in all good game :D\"}, {'funny': '', 'posted': 'Posted June 2, 2012.', 'last_edited': '', 'item_id': '204100', 'helpful': '1 of 1 people (100%) found this review helpful', 'recommend': True, 'review': 'Just buy it already. Great Story, Great Multiplayer and good fan service. Just awesome game. Just using shootdodge and bullet time makes you feel like a badass. Also, its better if you get the max payne story recapped or replay the first two but its not necessary.'}, {'funny': '', 'posted': 'Posted June 29, 2014.', 'last_edited': '', 'item_id': '224600', 'helpful': '1 of 2 people (50%) found this review helpful', 'recommend': True, 'review': 'It was a great game from what I played, right now I need to find the actual download.'}, {'funny': '', 'posted': 'Posted November 22, 2012.', 'last_edited': '', 'item_id': '207610', 'helpful': 'No ratings yet', 'recommend': True, 'review': \"The ending to this game is.... ♥♥♥♥♥♥♥.... Just buy it, you'll be invested, im automatically preordering season two of the walking dead game.\"}, {'funny': '', 'posted': 'Posted February 23, 2012.', 'last_edited': '', 'item_id': '108710', 'helpful': 'No ratings yet', 'recommend': True, 'review': 'Alan wake is a really good game, the light effects are pretty awesome and this game is so good, it paid back remedy their promotion and conversion fees in the first two days on steam. Its awesome :D. Remedy can still make video games, even if its not Max Payne. It is also very character driven.'}]}, {'user_id': 'maplemage', 'user_url': 'http://steamcommunity.com/id/maplemage', 'reviews': [{'funny': '3 people found this review funny', 'posted': 'Posted April 15, 2014.', 'last_edited': '', 'item_id': '211420', 'helpful': '35 of 43 people (81%) found this review helpful', 'recommend': True, 'review': 'Git gud'}, {'funny': '1 person found this review funny', 'posted': 'Posted December 23, 2013.', 'last_edited': '', 'item_id': '211820', 'helpful': '12 of 16 people (75%) found this review helpful', 'recommend': True, 'review': \"It's like Terraria, you play for 9 hours straight, get endgame armour then stop playing until the next update.\"}, {'funny': '2 people found this review funny', 'posted': 'Posted March 14, 2014.', 'last_edited': '', 'item_id': '730', 'helpful': '5 of 5 people (100%) found this review helpful', 'recommend': True, 'review': 'Hold shift to win, Hold CTRL to lose.'}, {'funny': '', 'posted': 'Posted July 11, 2013.', 'last_edited': '', 'item_id': '204300', 'helpful': 'No ratings yet', 'recommend': True, 'review': \"OH YES, THIS GAME IS THE BEST, THEY ADD STUFF LIKE NEW CHARACTERS, AND LIKE A NEW MAP ONCE A YEAR, IT'S SO AWESOME, OH YES, IT'S SO AWESOMENAUTS, YES, YES, I'M GOOD AT THIS, YES, YES, GOOD, I'M GOOD, YES, GOOD, YOU ARE BAD, IM GOOD, YES, TOO GOOD, YES, IM NOT BAD, YES, GOOD.\"}]}]\n"
     ]
    }
   ],
   "source": [
    "import gzip\n",
    "import json\n",
    "import ast\n",
    "import pandas as pd\n",
    "import nltk\n",
    "from nltk.sentiment import SentimentIntensityAnalyzer\n",
    "\n",
    "\n",
    "\n",
    "# Ruta al archivo JSON comprimido\n",
    "archivo_gz_user = r\"C:\\Users\\veram\\OneDrive\\Escritorio\\proyecto octubre\\user_reviews.json.gz\"\n",
    "\n",
    "# Lectura del archivo JSON comprimido\n",
    "data_user = []\n",
    "\n",
    "try:\n",
    "    with gzip.open(archivo_gz_user, 'rt', encoding='utf-8') as f:\n",
    "        for line_number, line in enumerate(f, start=1):\n",
    "            try:\n",
    "                # Usamos ast.literal_eval para evaluar la línea como un diccionario de Python\n",
    "                data_object = ast.literal_eval(line)\n",
    "                data_user.append(data_object)  # Añadimos el objeto a la lista\n",
    "            except (SyntaxError, ValueError) as e:\n",
    "                print(f\"Error al evaluar la línea {line_number}: {e}\")\n",
    "                print(f\"Línea problemática: {line[:100]}...\")  # Imprimimos parte de la línea problemática\n",
    "                continue\n",
    "    \n",
    "    print(f\"Se han cargado {len(data_user)} objetos correctamente.\")\n",
    "    print(data_user[:5])  # Mostramos los primeros 5 objetos\n",
    "except FileNotFoundError:\n",
    "    print(\"El archivo no se encontró. Verifica la ruta.\")\n",
    "except Exception as e:\n",
    "    print(f\"Ocurrió un error al cargar los datos: {e}\")\n",
    "\n",
    "\n",
    "\n",
    "# Convertimos los datos a un dataframe\n",
    "df_user = pd.DataFrame(data_user)"
   ]
  },
  {
   "cell_type": "code",
   "execution_count": 14,
   "metadata": {},
   "outputs": [],
   "source": [
    "# aplicamos \"explode\" a la columna 'reviews'\n",
    "df_exploded = df_user.explode('reviews').reset_index(drop=True)\n",
    "\n",
    "# Convertimos los diccionarios de la columna 'reviews' en columnas\n",
    "df_expanded = pd.json_normalize(df_exploded['reviews'])\n",
    "df_reviews_user = pd.concat([df_exploded.drop(columns=['reviews']), df_expanded], axis=1)\n"
   ]
  },
  {
   "cell_type": "code",
   "execution_count": 15,
   "metadata": {},
   "outputs": [],
   "source": [
    "# Enlistamos y después BORRAMOS las columnas que consideramos INNECESARIAS para el proyecto \n",
    "columnas_a_borrar = ['user_url','helpful', 'funny','last_edited']\n",
    "\n",
    "df_reviews_user.drop(columns=columnas_a_borrar, inplace=True)"
   ]
  },
  {
   "cell_type": "code",
   "execution_count": 17,
   "metadata": {},
   "outputs": [
    {
     "name": "stdout",
     "output_type": "stream",
     "text": [
      "No hay filas completamente vacías en el DataFrame.\n"
     ]
    }
   ],
   "source": [
    "# Encontramos las filas donde TODOS los valores son NULOS\n",
    "filas_nulas = df_reviews_user.isnull().all(axis=1)\n",
    "\n",
    "# Obtenemos los índices donde TODAS las columnas son NULAS\n",
    "indices_vacios = df_reviews_user.index[filas_nulas]\n",
    "\n",
    "# Verificamos el índice máximo hasta donde TODAS las filas están vacías\n",
    "if not indices_vacios.empty:\n",
    "    max_indices_vacios =indices_vacios.max()\n",
    "    print(f\"El índice máximo hasta donde todas las filas están vacías es: {max_indices_vacios}\")\n",
    "else:\n",
    "    print(\"No hay filas completamente vacías en el DataFrame.\")"
   ]
  },
  {
   "cell_type": "code",
   "execution_count": 18,
   "metadata": {},
   "outputs": [
    {
     "name": "stdout",
     "output_type": "stream",
     "text": [
      "Valores faltantes en la columna 'review': 28\n",
      "Número de valores faltantes en 'posted': 28\n",
      "Número de valores faltantes en 'item_id': 28\n",
      "Número de valores faltantes en 'recommend': 28\n",
      "Número de valores faltantes en 'user_id': 0\n"
     ]
    }
   ],
   "source": [
    "#Contamos los valores faltantes en las columnas review, posted, item_id, recommend,user_id\n",
    "faltantes_reviews = df_reviews_user['review'].isnull().sum()\n",
    "print(f\"Valores faltantes en la columna 'review': {faltantes_reviews}\")\n",
    "\n",
    "faltantes_posted = df_reviews_user['posted'].isna().sum()\n",
    "print(f\"Número de valores faltantes en 'posted': {faltantes_posted}\")\n",
    "\n",
    "faltantes_item_id = df_reviews_user['item_id'].isna().sum()\n",
    "print(f\"Número de valores faltantes en 'item_id': {faltantes_item_id}\")\n",
    "\n",
    "faltantes_recommend = df_reviews_user['recommend'].isna().sum()\n",
    "print(f\"Número de valores faltantes en 'recommend': {faltantes_recommend}\")\n",
    "\n",
    "faltantes_user_id = df_reviews_user['user_id'].isna().sum()\n",
    "print(f\"Número de valores faltantes en 'user_id': {faltantes_user_id}\")\n",
    "\n",
    "\n"
   ]
  },
  {
   "cell_type": "code",
   "execution_count": 19,
   "metadata": {},
   "outputs": [],
   "source": [
    "#Eliminamos la palabra \"Posted\" y el punto al final de cada fecha\n",
    "df_reviews_user['posted'] = df_reviews_user['posted'].str.replace('Posted', '', regex=False).str.replace('.', '', regex=False).str.strip()"
   ]
  },
  {
   "cell_type": "code",
   "execution_count": 20,
   "metadata": {},
   "outputs": [],
   "source": [
    "\n",
    "#Extraemos solo el año utilizando expresiones regulares\n",
    "df_reviews_user['year_posted'] = df_reviews_user['posted'].str.extract(r'(\\d{4})')\n",
    "\n"
   ]
  },
  {
   "cell_type": "code",
   "execution_count": 21,
   "metadata": {},
   "outputs": [
    {
     "name": "stdout",
     "output_type": "stream",
     "text": [
      "Número de valores faltantes en 'year_posted': 10147\n"
     ]
    }
   ],
   "source": [
    "# Contamos los valores faltantes en la columna year_posted\n",
    "faltantes_year_posted = df_reviews_user['year_posted'].isna().sum()\n",
    "print(f\"Número de valores faltantes en 'year_posted': {faltantes_year_posted}\")"
   ]
  },
  {
   "cell_type": "code",
   "execution_count": 22,
   "metadata": {},
   "outputs": [],
   "source": [
    "# Borramos filas con valores faltantes\n",
    "df_reviews_user_cleaned = df_reviews_user.dropna()"
   ]
  },
  {
   "cell_type": "code",
   "execution_count": 23,
   "metadata": {},
   "outputs": [
    {
     "name": "stderr",
     "output_type": "stream",
     "text": [
      "C:\\Users\\veram\\AppData\\Local\\Temp\\ipykernel_19248\\762017775.py:2: SettingWithCopyWarning: \n",
      "A value is trying to be set on a copy of a slice from a DataFrame\n",
      "\n",
      "See the caveats in the documentation: https://pandas.pydata.org/pandas-docs/stable/user_guide/indexing.html#returning-a-view-versus-a-copy\n",
      "  df_reviews_user_cleaned.drop(columns=['posted'], inplace=True)\n"
     ]
    }
   ],
   "source": [
    "# Borramos la columna posted ya que creamos la columna que contiene el año\n",
    "df_reviews_user_cleaned.drop(columns=['posted'], inplace=True)"
   ]
  },
  {
   "cell_type": "code",
   "execution_count": 24,
   "metadata": {},
   "outputs": [
    {
     "data": {
      "text/html": [
       "<div>\n",
       "<style scoped>\n",
       "    .dataframe tbody tr th:only-of-type {\n",
       "        vertical-align: middle;\n",
       "    }\n",
       "\n",
       "    .dataframe tbody tr th {\n",
       "        vertical-align: top;\n",
       "    }\n",
       "\n",
       "    .dataframe thead th {\n",
       "        text-align: right;\n",
       "    }\n",
       "</style>\n",
       "<table border=\"1\" class=\"dataframe\">\n",
       "  <thead>\n",
       "    <tr style=\"text-align: right;\">\n",
       "      <th></th>\n",
       "      <th>user_id</th>\n",
       "      <th>item_id</th>\n",
       "      <th>review</th>\n",
       "      <th>year_posted</th>\n",
       "      <th>recommend</th>\n",
       "    </tr>\n",
       "  </thead>\n",
       "  <tbody>\n",
       "    <tr>\n",
       "      <th>0</th>\n",
       "      <td>76561197970982479</td>\n",
       "      <td>1250</td>\n",
       "      <td>Simple yet with great replayability. In my opi...</td>\n",
       "      <td>2011</td>\n",
       "      <td>True</td>\n",
       "    </tr>\n",
       "    <tr>\n",
       "      <th>1</th>\n",
       "      <td>76561197970982479</td>\n",
       "      <td>22200</td>\n",
       "      <td>It's unique and worth a playthrough.</td>\n",
       "      <td>2011</td>\n",
       "      <td>True</td>\n",
       "    </tr>\n",
       "    <tr>\n",
       "      <th>2</th>\n",
       "      <td>76561197970982479</td>\n",
       "      <td>43110</td>\n",
       "      <td>Great atmosphere. The gunplay can be a bit chu...</td>\n",
       "      <td>2011</td>\n",
       "      <td>True</td>\n",
       "    </tr>\n",
       "    <tr>\n",
       "      <th>3</th>\n",
       "      <td>js41637</td>\n",
       "      <td>251610</td>\n",
       "      <td>I know what you think when you see this title ...</td>\n",
       "      <td>2014</td>\n",
       "      <td>True</td>\n",
       "    </tr>\n",
       "    <tr>\n",
       "      <th>4</th>\n",
       "      <td>js41637</td>\n",
       "      <td>227300</td>\n",
       "      <td>For a simple (it's actually not all that simpl...</td>\n",
       "      <td>2013</td>\n",
       "      <td>True</td>\n",
       "    </tr>\n",
       "    <tr>\n",
       "      <th>...</th>\n",
       "      <td>...</td>\n",
       "      <td>...</td>\n",
       "      <td>...</td>\n",
       "      <td>...</td>\n",
       "      <td>...</td>\n",
       "    </tr>\n",
       "    <tr>\n",
       "      <th>59280</th>\n",
       "      <td>wayfeng</td>\n",
       "      <td>730</td>\n",
       "      <td>its FUNNNNNNNN</td>\n",
       "      <td>2015</td>\n",
       "      <td>True</td>\n",
       "    </tr>\n",
       "    <tr>\n",
       "      <th>59283</th>\n",
       "      <td>76561198251004808</td>\n",
       "      <td>253980</td>\n",
       "      <td>Awesome fantasy game if you don't mind the gra...</td>\n",
       "      <td>2015</td>\n",
       "      <td>True</td>\n",
       "    </tr>\n",
       "    <tr>\n",
       "      <th>59293</th>\n",
       "      <td>72947282842</td>\n",
       "      <td>730</td>\n",
       "      <td>Prettyy Mad Game</td>\n",
       "      <td>2015</td>\n",
       "      <td>True</td>\n",
       "    </tr>\n",
       "    <tr>\n",
       "      <th>59295</th>\n",
       "      <td>ApxLGhost</td>\n",
       "      <td>730</td>\n",
       "      <td>AMAZING GAME 10/10</td>\n",
       "      <td>2015</td>\n",
       "      <td>True</td>\n",
       "    </tr>\n",
       "    <tr>\n",
       "      <th>59304</th>\n",
       "      <td>76561198267374962</td>\n",
       "      <td>369200</td>\n",
       "      <td>Why I voted yes? 1. Girl characters have boobs...</td>\n",
       "      <td>2015</td>\n",
       "      <td>True</td>\n",
       "    </tr>\n",
       "  </tbody>\n",
       "</table>\n",
       "<p>49186 rows × 5 columns</p>\n",
       "</div>"
      ],
      "text/plain": [
       "                 user_id item_id  \\\n",
       "0      76561197970982479    1250   \n",
       "1      76561197970982479   22200   \n",
       "2      76561197970982479   43110   \n",
       "3                js41637  251610   \n",
       "4                js41637  227300   \n",
       "...                  ...     ...   \n",
       "59280            wayfeng     730   \n",
       "59283  76561198251004808  253980   \n",
       "59293        72947282842     730   \n",
       "59295          ApxLGhost     730   \n",
       "59304  76561198267374962  369200   \n",
       "\n",
       "                                                  review year_posted recommend  \n",
       "0      Simple yet with great replayability. In my opi...        2011      True  \n",
       "1                   It's unique and worth a playthrough.        2011      True  \n",
       "2      Great atmosphere. The gunplay can be a bit chu...        2011      True  \n",
       "3      I know what you think when you see this title ...        2014      True  \n",
       "4      For a simple (it's actually not all that simpl...        2013      True  \n",
       "...                                                  ...         ...       ...  \n",
       "59280                                     its FUNNNNNNNN        2015      True  \n",
       "59283  Awesome fantasy game if you don't mind the gra...        2015      True  \n",
       "59293                                   Prettyy Mad Game        2015      True  \n",
       "59295                                 AMAZING GAME 10/10        2015      True  \n",
       "59304  Why I voted yes? 1. Girl characters have boobs...        2015      True  \n",
       "\n",
       "[49186 rows x 5 columns]"
      ]
     },
     "execution_count": 24,
     "metadata": {},
     "output_type": "execute_result"
    }
   ],
   "source": [
    "#Reordenamos las columnas del dataframe\n",
    "nuevo_orden_columnas = [\n",
    "    'user_id',\n",
    "    'item_id',\n",
    "    'review',\n",
    "    'year_posted',\n",
    "    'recommend',  \n",
    "]\n",
    "\n",
    "df_reviews_users_orden = df_reviews_user_cleaned[nuevo_orden_columnas]\n",
    "#verificamos el cambio\n",
    "df_reviews_users_orden"
   ]
  },
  {
   "cell_type": "code",
   "execution_count": 27,
   "metadata": {},
   "outputs": [
    {
     "name": "stdout",
     "output_type": "stream",
     "text": [
      "                 user_id item_id  \\\n",
      "0      76561197970982479    1250   \n",
      "1      76561197970982479   22200   \n",
      "2      76561197970982479   43110   \n",
      "3                js41637  251610   \n",
      "4                js41637  227300   \n",
      "...                  ...     ...   \n",
      "59280            wayfeng     730   \n",
      "59283  76561198251004808  253980   \n",
      "59293        72947282842     730   \n",
      "59295          ApxLGhost     730   \n",
      "59304  76561198267374962  369200   \n",
      "\n",
      "                                                  review year_posted  \\\n",
      "0      Simple yet with great replayability. In my opi...        2011   \n",
      "1                   It's unique and worth a playthrough.        2011   \n",
      "2      Great atmosphere. The gunplay can be a bit chu...        2011   \n",
      "3      I know what you think when you see this title ...        2014   \n",
      "4      For a simple (it's actually not all that simpl...        2013   \n",
      "...                                                  ...         ...   \n",
      "59280                                     its FUNNNNNNNN        2015   \n",
      "59283  Awesome fantasy game if you don't mind the gra...        2015   \n",
      "59293                                   Prettyy Mad Game        2015   \n",
      "59295                                 AMAZING GAME 10/10        2015   \n",
      "59304  Why I voted yes? 1. Girl characters have boobs...        2015   \n",
      "\n",
      "      recommend  sentiment_analysis  \n",
      "0          True                   2  \n",
      "1          True                   2  \n",
      "2          True                   2  \n",
      "3          True                   2  \n",
      "4          True                   2  \n",
      "...         ...                 ...  \n",
      "59280      True                   1  \n",
      "59283      True                   2  \n",
      "59293      True                   0  \n",
      "59295      True                   2  \n",
      "59304      True                   2  \n",
      "\n",
      "[49186 rows x 6 columns]\n"
     ]
    },
    {
     "name": "stderr",
     "output_type": "stream",
     "text": [
      "C:\\Users\\veram\\AppData\\Local\\Temp\\ipykernel_19248\\3994888927.py:19: SettingWithCopyWarning: \n",
      "A value is trying to be set on a copy of a slice from a DataFrame.\n",
      "Try using .loc[row_indexer,col_indexer] = value instead\n",
      "\n",
      "See the caveats in the documentation: https://pandas.pydata.org/pandas-docs/stable/user_guide/indexing.html#returning-a-view-versus-a-copy\n",
      "  df_reviews_users_orden['sentiment_analysis'] = df_reviews_users_orden['review'].apply(get_sentiment)\n"
     ]
    }
   ],
   "source": [
    "# Creamos una instancia de SentimentIntensityAnalyzer\n",
    "sia = SentimentIntensityAnalyzer()\n",
    "\n",
    "#Creamos la función para determinar el sentimiento\n",
    "def get_sentiment(text):\n",
    "    # Verificamos si el texto es NaN o está vacío\n",
    "    if pd.isna(text) or text.strip() == '':\n",
    "        return 1  # Valor 1 si no hay reseña\n",
    "    score = sia.polarity_scores(text)['compound']\n",
    "    if score < 0:\n",
    "        return 0  # Malo\n",
    "    elif score == 0:\n",
    "        return 1  # Neutral\n",
    "    else:\n",
    "        return 2  # Positivo\n",
    "    \n",
    "\n",
    "# Aplicamos la función al dataframe\n",
    "df_reviews_users_orden['sentiment_analysis'] = df_reviews_users_orden['review'].apply(get_sentiment)\n",
    "#verificamos \n",
    "print(df_reviews_users_orden)\n"
   ]
  },
  {
   "cell_type": "code",
   "execution_count": 28,
   "metadata": {},
   "outputs": [
    {
     "name": "stdout",
     "output_type": "stream",
     "text": [
      "El archivo Parquet ha sido guardado exitosamente.\n"
     ]
    }
   ],
   "source": [
    "# Borramos la columna REVIEW para aligerar el dataset\n",
    "df_reviews_users_orden.drop(columns=['review'], inplace=True)\n",
    "\n",
    "# Guardamos el dataframe en un archivo Parquet\n",
    "df_reviews_users_orden.to_parquet('df_review_user.parquet', index=False)\n",
    "#verificamos\n",
    "print(\"El archivo Parquet ha sido guardado exitosamente.\")"
   ]
  }
 ],
 "metadata": {
  "kernelspec": {
   "display_name": "Python 3",
   "language": "python",
   "name": "python3"
  },
  "language_info": {
   "codemirror_mode": {
    "name": "ipython",
    "version": 3
   },
   "file_extension": ".py",
   "mimetype": "text/x-python",
   "name": "python",
   "nbconvert_exporter": "python",
   "pygments_lexer": "ipython3",
   "version": "3.12.0"
  }
 },
 "nbformat": 4,
 "nbformat_minor": 2
}
