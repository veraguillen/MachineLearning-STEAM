{
 "cells": [
  {
   "cell_type": "markdown",
   "metadata": {},
   "source": [
    "## Modelo de Machine Learning: Similitud del Coseno\n",
    "Para desarrollar nuestro sistema de recomendaciones, utilizaremos las columnas *“developer”, “genre” y “specs”*, creando una nueva columna llamada *combined_features*.\n",
    "En esta etapa, normalizaremos el texto eliminando palabras vacías (stop words) en inglés y símbolos innecesarios, dejando solo letras para un análisis más preciso.\n",
    "### *Se basa en dos conceptos fundamentales*: ###\n",
    "-**Frecuencia de Término (TF):** Mide cuántas veces aparece una palabra en un documento en relación con el total de palabras. Las palabras más frecuentes son consideradas más relevantes.\n",
    "-**Frecuencia Inversa de Documento (IDF):** Evalúa la importancia de una palabra en todo el conjunto de documentos. Palabras comunes tienen un IDF bajo, mientras que palabras raras tienen un IDF alto.  Estos conceptos nos permitirán calcular similitudes y ofrecer recomendaciones personalizadas a los jugadores."
   ]
  },
  {
   "cell_type": "code",
   "execution_count": 14,
   "metadata": {},
   "outputs": [],
   "source": [
    "# 1. Importar las librerias necesarias y cargar el dataset \n",
    "import pandas as pd\n",
    "import re\n",
    "from sklearn.feature_extraction.text import TfidfVectorizer\n",
    "from sklearn.metrics.pairwise import cosine_similarity\n",
    "import matplotlib.pyplot as plt\n",
    "\n",
    "games= pd.read_parquet(r\"C:\\Users\\veram\\OneDrive\\Escritorio\\proyecto octubre\\Datos_parquet\\data_games.parquet\")\n",
    "df_games = games\n"
   ]
  },
  {
   "cell_type": "code",
   "execution_count": 19,
   "metadata": {},
   "outputs": [
    {
     "data": {
      "text/html": [
       "<div>\n",
       "<style scoped>\n",
       "    .dataframe tbody tr th:only-of-type {\n",
       "        vertical-align: middle;\n",
       "    }\n",
       "\n",
       "    .dataframe tbody tr th {\n",
       "        vertical-align: top;\n",
       "    }\n",
       "\n",
       "    .dataframe thead th {\n",
       "        text-align: right;\n",
       "    }\n",
       "</style>\n",
       "<table border=\"1\" class=\"dataframe\">\n",
       "  <thead>\n",
       "    <tr style=\"text-align: right;\">\n",
       "      <th></th>\n",
       "      <th>id</th>\n",
       "      <th>title</th>\n",
       "      <th>developer</th>\n",
       "      <th>specs</th>\n",
       "      <th>price</th>\n",
       "      <th>release_year</th>\n",
       "      <th>is_free</th>\n",
       "      <th>genre</th>\n",
       "      <th>combined_features</th>\n",
       "    </tr>\n",
       "  </thead>\n",
       "  <tbody>\n",
       "    <tr>\n",
       "      <th>0</th>\n",
       "      <td>761140</td>\n",
       "      <td>Lost Summoner Kitty</td>\n",
       "      <td>Kotoshiro</td>\n",
       "      <td>Single-player</td>\n",
       "      <td>4.99</td>\n",
       "      <td>2018</td>\n",
       "      <td>False</td>\n",
       "      <td>Action, Casual</td>\n",
       "      <td>kotoshiro action casual singleplayer</td>\n",
       "    </tr>\n",
       "    <tr>\n",
       "      <th>1</th>\n",
       "      <td>643980</td>\n",
       "      <td>Ironbound</td>\n",
       "      <td>Secret Level SRL</td>\n",
       "      <td>Single-player</td>\n",
       "      <td>0.00</td>\n",
       "      <td>2018</td>\n",
       "      <td>True</td>\n",
       "      <td>Indie, RPG</td>\n",
       "      <td>secret level srl indie rpg singleplayer</td>\n",
       "    </tr>\n",
       "    <tr>\n",
       "      <th>2</th>\n",
       "      <td>670290</td>\n",
       "      <td>Real Pool 3D - Poolians</td>\n",
       "      <td>Poolians.com</td>\n",
       "      <td>Single-player</td>\n",
       "      <td>0.00</td>\n",
       "      <td>2017</td>\n",
       "      <td>True</td>\n",
       "      <td>Casual, Indie</td>\n",
       "      <td>poolianscom casual indie singleplayer</td>\n",
       "    </tr>\n",
       "    <tr>\n",
       "      <th>3</th>\n",
       "      <td>767400</td>\n",
       "      <td>弹炸人2222</td>\n",
       "      <td>彼岸领域</td>\n",
       "      <td>Single-player</td>\n",
       "      <td>0.99</td>\n",
       "      <td>2017</td>\n",
       "      <td>False</td>\n",
       "      <td>Action, Adventure</td>\n",
       "      <td>action adventure singleplayer</td>\n",
       "    </tr>\n",
       "    <tr>\n",
       "      <th>4</th>\n",
       "      <td>772540</td>\n",
       "      <td>Battle Royale Trainer</td>\n",
       "      <td>Trickjump Games Ltd</td>\n",
       "      <td>Single-player</td>\n",
       "      <td>3.99</td>\n",
       "      <td>2018</td>\n",
       "      <td>False</td>\n",
       "      <td>Action, Adventure</td>\n",
       "      <td>trickjump games ltd action adventure singleplayer</td>\n",
       "    </tr>\n",
       "    <tr>\n",
       "      <th>...</th>\n",
       "      <td>...</td>\n",
       "      <td>...</td>\n",
       "      <td>...</td>\n",
       "      <td>...</td>\n",
       "      <td>...</td>\n",
       "      <td>...</td>\n",
       "      <td>...</td>\n",
       "      <td>...</td>\n",
       "      <td>...</td>\n",
       "    </tr>\n",
       "    <tr>\n",
       "      <th>27138</th>\n",
       "      <td>745400</td>\n",
       "      <td>Kebab it Up!</td>\n",
       "      <td>Bidoniera Games</td>\n",
       "      <td>Single-player</td>\n",
       "      <td>1.99</td>\n",
       "      <td>2018</td>\n",
       "      <td>False</td>\n",
       "      <td>Action, Adventure</td>\n",
       "      <td>bidoniera games action adventure singleplayer</td>\n",
       "    </tr>\n",
       "    <tr>\n",
       "      <th>27139</th>\n",
       "      <td>773640</td>\n",
       "      <td>Colony On Mars</td>\n",
       "      <td>Nikita \"Ghost_RUS\"</td>\n",
       "      <td>Single-player</td>\n",
       "      <td>1.99</td>\n",
       "      <td>2018</td>\n",
       "      <td>False</td>\n",
       "      <td>Casual, Indie</td>\n",
       "      <td>nikita ghostrus casual indie singleplayer</td>\n",
       "    </tr>\n",
       "    <tr>\n",
       "      <th>27140</th>\n",
       "      <td>733530</td>\n",
       "      <td>LOGistICAL: South Africa</td>\n",
       "      <td>Sacada</td>\n",
       "      <td>Single-player</td>\n",
       "      <td>4.99</td>\n",
       "      <td>2018</td>\n",
       "      <td>False</td>\n",
       "      <td>Casual, Indie</td>\n",
       "      <td>sacada casual indie singleplayer</td>\n",
       "    </tr>\n",
       "    <tr>\n",
       "      <th>27141</th>\n",
       "      <td>610660</td>\n",
       "      <td>Russian Roads</td>\n",
       "      <td>Laush Dmitriy Sergeevich</td>\n",
       "      <td>Single-player</td>\n",
       "      <td>1.99</td>\n",
       "      <td>2018</td>\n",
       "      <td>False</td>\n",
       "      <td>Indie, Racing</td>\n",
       "      <td>laush dmitriy sergeevich indie racing singlepl...</td>\n",
       "    </tr>\n",
       "    <tr>\n",
       "      <th>27142</th>\n",
       "      <td>658870</td>\n",
       "      <td>EXIT 2 - Directions</td>\n",
       "      <td>xropi,stev3ns</td>\n",
       "      <td>Single-player</td>\n",
       "      <td>4.99</td>\n",
       "      <td>2017</td>\n",
       "      <td>False</td>\n",
       "      <td>Casual, Indie</td>\n",
       "      <td>xropistevns casual indie singleplayer</td>\n",
       "    </tr>\n",
       "  </tbody>\n",
       "</table>\n",
       "<p>27143 rows × 9 columns</p>\n",
       "</div>"
      ],
      "text/plain": [
       "           id                     title                 developer  \\\n",
       "0      761140       Lost Summoner Kitty                 Kotoshiro   \n",
       "1      643980                 Ironbound          Secret Level SRL   \n",
       "2      670290   Real Pool 3D - Poolians              Poolians.com   \n",
       "3      767400                   弹炸人2222                      彼岸领域   \n",
       "4      772540     Battle Royale Trainer       Trickjump Games Ltd   \n",
       "...       ...                       ...                       ...   \n",
       "27138  745400              Kebab it Up!           Bidoniera Games   \n",
       "27139  773640            Colony On Mars        Nikita \"Ghost_RUS\"   \n",
       "27140  733530  LOGistICAL: South Africa                    Sacada   \n",
       "27141  610660             Russian Roads  Laush Dmitriy Sergeevich   \n",
       "27142  658870       EXIT 2 - Directions             xropi,stev3ns   \n",
       "\n",
       "               specs  price  release_year  is_free              genre  \\\n",
       "0      Single-player   4.99          2018    False     Action, Casual   \n",
       "1      Single-player   0.00          2018     True         Indie, RPG   \n",
       "2      Single-player   0.00          2017     True      Casual, Indie   \n",
       "3      Single-player   0.99          2017    False  Action, Adventure   \n",
       "4      Single-player   3.99          2018    False  Action, Adventure   \n",
       "...              ...    ...           ...      ...                ...   \n",
       "27138  Single-player   1.99          2018    False  Action, Adventure   \n",
       "27139  Single-player   1.99          2018    False      Casual, Indie   \n",
       "27140  Single-player   4.99          2018    False      Casual, Indie   \n",
       "27141  Single-player   1.99          2018    False      Indie, Racing   \n",
       "27142  Single-player   4.99          2017    False      Casual, Indie   \n",
       "\n",
       "                                       combined_features  \n",
       "0                   kotoshiro action casual singleplayer  \n",
       "1                secret level srl indie rpg singleplayer  \n",
       "2                  poolianscom casual indie singleplayer  \n",
       "3                          action adventure singleplayer  \n",
       "4      trickjump games ltd action adventure singleplayer  \n",
       "...                                                  ...  \n",
       "27138      bidoniera games action adventure singleplayer  \n",
       "27139          nikita ghostrus casual indie singleplayer  \n",
       "27140                   sacada casual indie singleplayer  \n",
       "27141  laush dmitriy sergeevich indie racing singlepl...  \n",
       "27142              xropistevns casual indie singleplayer  \n",
       "\n",
       "[27143 rows x 9 columns]"
      ]
     },
     "execution_count": 19,
     "metadata": {},
     "output_type": "execute_result"
    }
   ],
   "source": [
    "df_games"
   ]
  },
  {
   "cell_type": "code",
   "execution_count": 17,
   "metadata": {},
   "outputs": [
    {
     "name": "stdout",
     "output_type": "stream",
     "text": [
      "genre\n",
      "Action, Adventure           3657\n",
      "Action, Indie               2927\n",
      "Casual, Indie               2161\n",
      "Action                      1861\n",
      "Adventure, Indie            1733\n",
      "                            ... \n",
      "Photo Editing, Utilities       1\n",
      "Early Access, Indie            1\n",
      "Sports, Simulation             1\n",
      "Sports, Casual                 1\n",
      "Strategy, Action               1\n",
      "Name: count, Length: 101, dtype: int64\n",
      "developer\n",
      "Ubisoft - San Francisco                  1258\n",
      "SmiteWorks USA, LLC                       812\n",
      "Dovetail Games                            253\n",
      "KOEI TECMO GAMES CO., LTD.                214\n",
      "Paradox Development Studio                153\n",
      "                                         ... \n",
      "Mark Healey                                 1\n",
      "SyKoHPaTh                                   1\n",
      "Patrick Hofmann                             1\n",
      "DreamInCode B.V.,Squadron Interactive       1\n",
      "彼岸领域                                        1\n",
      "Name: count, Length: 10500, dtype: int64\n",
      "0\n"
     ]
    }
   ],
   "source": [
    "# 2. indagaremos en la distribución de géneros, desarrolladores y aspectos dentro del dataset \n",
    "print(df_games['genre'].value_counts())\n",
    "print(df_games['developer'].value_counts())\n",
    "print(df_games['specs'].isnull().sum())\n"
   ]
  },
  {
   "cell_type": "code",
   "execution_count": 20,
   "metadata": {},
   "outputs": [
    {
     "name": "stdout",
     "output_type": "stream",
     "text": [
      "0                 kotoshiro action casual singleplayer\n",
      "1              secret level srl indie rpg singleplayer\n",
      "2                poolianscom casual indie singleplayer\n",
      "3                        action adventure singleplayer\n",
      "4    trickjump games ltd action adventure singleplayer\n",
      "Name: combined_features, dtype: object\n"
     ]
    }
   ],
   "source": [
    "# 3. Crearemos la Función para normalizar texto y la aplicaremos a nuestra data\n",
    "def normalize_text(text):\n",
    "     \n",
    "     # Pasar a minúsculas\n",
    "    text = text.lower().strip()\n",
    "    text = re.sub(r'[^a-z\\s]', '', text)  # Eliminar símbolos y signos\n",
    "    \n",
    "    return text\n",
    "\n",
    "# 4. Crearemos una  nueva columna llamada 'combined_features'\n",
    "df_games['combined_features'] = (\n",
    "    df_games['developer'].apply(normalize_text) + ' ' +\n",
    "    df_games['genre'].apply(normalize_text) + ' ' +\n",
    "    df_games['specs'].apply(normalize_text)\n",
    ")\n",
    "\n",
    "print(df_games['combined_features'].head())\n",
    "\n"
   ]
  },
  {
   "cell_type": "code",
   "execution_count": 21,
   "metadata": {},
   "outputs": [
    {
     "data": {
      "text/plain": [
       "\"\\n# 7.1 de ser necesario guardar el resultado:\\n\\n-Guardar la matriz de similitud\\njoblib.dump(cosine_sim, 'cosine_sim.joblib')\\n\\n-Guardar el vectorizador para usarlo más adelante\\njoblib.dump(vectorizer, 'vectorizer.joblib')\\n\\n\\n\""
      ]
     },
     "execution_count": 21,
     "metadata": {},
     "output_type": "execute_result"
    }
   ],
   "source": [
    "\n",
    "# 5. Inicializar el vectorizador TF-IDF\n",
    "vectorizer = TfidfVectorizer(stop_words='english', max_features=5000, min_df=0.01, max_df=0.95)\n",
    "\n",
    "# 6. Aplicar el vectorizador a la columna combinada\n",
    "tfidf_matrix = vectorizer.fit_transform(df_games['combined_features'])\n",
    "\n",
    "# 7. Calcular la matriz de similitud del coseno\n",
    "cosine_sim = cosine_similarity(tfidf_matrix)\n",
    "\n",
    "\n",
    "\n",
    "'''\n",
    "# 7.1 de ser necesario guardar el resultado:\n",
    "\n",
    "-Guardar la matriz de similitud\n",
    "joblib.dump(cosine_sim, 'cosine_sim.joblib')\n",
    "\n",
    "-Guardar el vectorizador para usarlo más adelante\n",
    "joblib.dump(vectorizer, 'vectorizer.joblib')\n",
    "\n",
    "\n",
    "'''\n"
   ]
  },
  {
   "cell_type": "markdown",
   "metadata": {},
   "source": [
    "### Función de Recomendaciones\n",
    "Hemos desarrollado una función que genera recomendaciones basadas en los datos procesados anteriormente.\n",
    "-**Transformación**: Convierte el título del videojuego a minúsculas y elimina espacios en blanco.\n",
    "-**Búsqueda**: Localiza el índice del videojuego en el DataFrame df_games donde el título coincide.\n",
    "-**Verificación**: Si se encuentra el índice, se devuelve; de lo contrario, se lanza una excepción.\n",
    "Esta función permite acceder de manera eficiente a las recomendaciones más relevantes para los usuarios."
   ]
  },
  {
   "cell_type": "code",
   "execution_count": 22,
   "metadata": {},
   "outputs": [],
   "source": [
    "#8 . creamos la función: \n",
    "\n",
    "def get_index_from_title(game_title, df_games):\n",
    "    \n",
    "    game_title = game_title.lower().strip()\n",
    "    \n",
    "    # 8.1Buscamos el índice del juego cuyo título coincide con game_title\n",
    "    indices = df_games[df_games['title'].str.lower().str.contains(game_title, na=False)].index\n",
    "  \n",
    "    #8.2 Verificamos si hay coincidencias\n",
    "    if not indices.empty:\n",
    "        return indices[0]\n",
    "    raise ValueError(\"Título no encontrado\")\n"
   ]
  },
  {
   "cell_type": "markdown",
   "metadata": {},
   "source": [
    "### Descripción del Proceso de Recomendación\n",
    "-**Obtención de Índice**: Se invoca la función get_index_from_title para localizar el índice del videojuego solicitado.\n",
    "-**Cálculo de Similitud**: Se calcula la similitud del coseno entre el videojuego elegido y los demás.\n",
    "-**Ordenación**: Los videojuegos se ordenan según su puntuación de similitud.\n",
    "-**Selección de Resultados**: Se extraen y devuelven los nombres de los 5 videojuegos más similares."
   ]
  },
  {
   "cell_type": "code",
   "execution_count": 23,
   "metadata": {},
   "outputs": [],
   "source": [
    "# 9. Función  de recomendación:\n",
    "\n",
    "def get_recommendations(game_title, df_games):\n",
    "\n",
    "    try:\n",
    "        # 9.1 Obtenemos el índice del videojuego buscado por título\n",
    "        idx = get_index_from_title(game_title, df_games)\n",
    "        \n",
    "        # 9.2Calculamos la similitud del coseno\n",
    "        cosine_sim = cosine_similarity(tfidf_matrix[idx], tfidf_matrix)\n",
    "        \n",
    "        # 9.3Enumeramos los videojuegos y se ordenan por su similitud\n",
    "        sim_scores = list(enumerate(cosine_sim[0]))\n",
    "        sim_scores = sorted(sim_scores, key=lambda x: x[1], reverse=True)\n",
    "        \n",
    "        # 9.4 Obtenemos los índices de los 5 videojuegos más similares\n",
    "        game_indices = [i[0] for i in sim_scores[1:6]]\n",
    "        \n",
    "        # 9.5 Devolvemos los nombres de los videojuegos recomendados\n",
    "        return df_games['title'].iloc[game_indices].tolist()\n",
    "   \n",
    "    except ValueError:\n",
    "        return [\"No se encontró el videojuego en los datos\"]\n"
   ]
  },
  {
   "cell_type": "markdown",
   "metadata": {},
   "source": [
    "### Ejemplo de Uso\n",
    "Al utilizar la función get_recommendations, asegúrate de que el tfidf_matrix ya esté calculado. A continuación se presenta un ejemplo de cómo implementarlo:"
   ]
  },
  {
   "cell_type": "code",
   "execution_count": 24,
   "metadata": {},
   "outputs": [
    {
     "name": "stdout",
     "output_type": "stream",
     "text": [
      "Recomendaciones: ['Vegas: Make It Big™', 'Railroad Tycoon 3', 'Railroad Tycoon II Platinum', 'Genesis Rising', 'Rome: Total War™ - Collection']\n"
     ]
    }
   ],
   "source": [
    "# 10.Llamada a la función con el título deseado\n",
    "resultados_recomendaciones = get_recommendations(\"Lew Pulsipher's Doomstar\", df_games)\n",
    "print(\"Recomendaciones:\", resultados_recomendaciones)\n"
   ]
  },
  {
   "cell_type": "markdown",
   "metadata": {},
   "source": [
    "### Gráfica\n",
    "Al ejecutar el sistema, es posible que las recomendaciones para **Lew Pulsipher's Doomstar** incluyan títulos que han demostrado ser populares o relevantes en la misma categoría, enriqueciendo la experiencia del jugador y facilitando el descubrimiento de nuevos juegos."
   ]
  },
  {
   "cell_type": "code",
   "execution_count": 25,
   "metadata": {},
   "outputs": [
    {
     "data": {
      "image/png": "[encoded data removed]",
      "text/plain": [
       "<Figure size 1000x500 with 1 Axes>"
      ]
     },
     "metadata": {},
     "output_type": "display_data"
    }
   ],
   "source": [
    "game_title = \"Lew Pulsipher's Doomstar\"\n",
    "\n",
    "# 11.1 Obtener recomendaciones\n",
    "recomendaciones = get_recommendations(game_title, df_games)\n",
    "\n",
    "# 11.2 Obtener la similitud para el gráfico\n",
    "idx = get_index_from_title(game_title, df_games)\n",
    "cosine_sim = cosine_similarity(tfidf_matrix[idx], tfidf_matrix)\n",
    "sim_scores = list(enumerate(cosine_sim[0]))\n",
    "sim_scores = sorted(sim_scores, key=lambda x: x[1], reverse=True)\n",
    "top_similarities = sim_scores[1:6]  # Top 5\n",
    "\n",
    "# 11.3 Crear DataFrame para el gráfico\n",
    "df_similarities = pd.DataFrame(top_similarities, columns=['Index', 'Similarity'])\n",
    "df_similarities['Game'] = df_games['title'].iloc[df_similarities['Index']].values\n",
    "\n",
    "# 11.4 Gráfico de barras con estilo\n",
    "plt.figure(figsize=(10, 5))\n",
    "plt.bar(df_similarities['Game'], df_similarities['Similarity'], color='#FFCC00')  # Color amarillo\n",
    "plt.title('Similitud del Videojuego: ' + game_title, fontsize=14, fontweight='bold', color='#333333')\n",
    "plt.xlabel('Videojuegos Recomendados', fontsize=12, color='#333333')\n",
    "plt.ylabel('Puntuación de Similitud', fontsize=12, color='#333333')\n",
    "plt.xticks(rotation=45, fontsize=10, color='#333333')\n",
    "plt.grid(axis='y', linestyle='--', alpha=0.7)  # Agregar una cuadrícula ligera en el eje y\n",
    "plt.tight_layout()  # Ajustar el layout para evitar solapamientos\n",
    "plt.show()"
   ]
  }
 ],
 "metadata": {
  "kernelspec": {
   "display_name": "virtual",
   "language": "python",
   "name": "python3"
  },
  "language_info": {
   "codemirror_mode": {
    "name": "ipython",
    "version": 3
   },
   "file_extension": ".py",
   "mimetype": "text/x-python",
   "name": "python",
   "nbconvert_exporter": "python",
   "pygments_lexer": "ipython3",
   "version": "3.12.0"
  }
 },
 "nbformat": 4,
 "nbformat_minor": 2
}
