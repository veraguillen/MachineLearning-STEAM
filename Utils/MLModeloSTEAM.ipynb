{
 "cells": [
  {
   "cell_type": "markdown",
   "metadata": {},
   "source": [
    "## Modelo de Machine Learning: Similitud del Coseno\n",
    "Para desarrollar nuestro sistema de recomendaciones, utilizaremos las columnas *“developer”, “genre” y “specs”*, creando una nueva columna llamada *combined_features*.\n",
    "En esta etapa, normalizaremos el texto eliminando palabras vacías (stop words) en inglés y símbolos innecesarios, dejando solo letras para un análisis más preciso.\n",
    "### *Se basa en dos conceptos fundamentales*: ###\n",
    "-**Frecuencia de Término (TF):** Mide cuántas veces aparece una palabra en un documento en relación con el total de palabras. Las palabras más frecuentes son consideradas más relevantes.\n",
    "-**Frecuencia Inversa de Documento (IDF):** Evalúa la importancia de una palabra en todo el conjunto de documentos. Palabras comunes tienen un IDF bajo, mientras que palabras raras tienen un IDF alto.  Estos conceptos nos permitirán calcular similitudes y ofrecer recomendaciones personalizadas a los jugadores."
   ]
  },
  {
   "cell_type": "code",
   "execution_count": 30,
   "metadata": {},
   "outputs": [],
   "source": [
    "# 1. Importar las librerias necesarias y cargar el dataset \n",
    "import pandas as pd\n",
    "import re\n",
    "from sklearn.feature_extraction.text import TfidfVectorizer\n",
    "from sklearn.metrics.pairwise import cosine_similarity\n",
    "\n",
    "games= pd.read_parquet(r\"C:\\Users\\veram\\OneDrive\\Escritorio\\proyecto octubre\\Datos_parquet\\data_games.parquet\")\n",
    "df_games = games\n"
   ]
  },
  {
   "cell_type": "code",
   "execution_count": 24,
   "metadata": {},
   "outputs": [
    {
     "name": "stdout",
     "output_type": "stream",
     "text": [
      "genre\n",
      "action                     10617\n",
      "casual                      4248\n",
      "adventure                   4109\n",
      "indie                       3330\n",
      "simulation                  1835\n",
      "strategy                    1125\n",
      "rpg                          650\n",
      "racing                       447\n",
      "design amp illustration      283\n",
      "massively multiplayer        221\n",
      "animation amp modeling       120\n",
      "sports                        57\n",
      "utilities                     40\n",
      "audio production              38\n",
      "platformer                    12\n",
      "free play                     11\n",
      "education                      6\n",
      "early access                   4\n",
      "video production               4\n",
      "web publishing                 3\n",
      "horror                         2\n",
      "rpgmaker                       2\n",
      "photo editing                  2\n",
      "chess                          2\n",
      "open world                     1\n",
      "hidden object                  1\n",
      "retro                          1\n",
      "arcade                         1\n",
      "funny                          1\n",
      "zombies                        1\n",
      "female protagonist             1\n",
      "shooter                        1\n",
      "twin stick shooter             1\n",
      "roguelike                      1\n",
      "music                          1\n",
      "soundtrack                     1\n",
      "documentary                    1\n",
      "point click                    1\n",
      "Name: count, dtype: int64\n",
      "developer\n",
      "ubisoft san francisco         1264\n",
      "smiteworks usa llc             812\n",
      "dovetail games                 253\n",
      "koei tecmo games co. ltd.      214\n",
      "paradox development studio     153\n",
      "                              ... \n",
      "david ogden                      1\n",
      "gaute heggen                     1\n",
      "mark healey                      1\n",
      "sykohpath                        1\n",
      "nlb project                      1\n",
      "Name: count, Length: 10300, dtype: int64\n",
      "0\n"
     ]
    }
   ],
   "source": [
    "# 2. indagaremos en la distribución de géneros, desarrolladores y aspectos dentro del dataset \n",
    "print(df_games['genre'].value_counts())\n",
    "print(df_games['developer'].value_counts())\n",
    "print(df_games['specs'].isnull().sum())\n"
   ]
  },
  {
   "cell_type": "code",
   "execution_count": 31,
   "metadata": {},
   "outputs": [
    {
     "name": "stdout",
     "output_type": "stream",
     "text": [
      "0          singleplayer kotoshiro action\n",
      "1    singleplayer secret level srl indie\n",
      "2       singleplayer poolians.com casual\n",
      "3                   singleplayer  action\n",
      "4    singleplayer trickjump games action\n",
      "Name: combined, dtype: object\n"
     ]
    }
   ],
   "source": [
    "# 3. Crearemos la Función para normalizar texto y la aplicaremos a nuestra data\n",
    "def normalize_text(text):\n",
    "    text = text.lower()  # Pasar a minúsculas\n",
    "    text = re.sub(r'[^a-z\\s]', '', text)  # Eliminar símbolos y signos\n",
    "    return text\n",
    "\n",
    "# 4. Crearemos una  nueva columna llamada 'combined_features'\n",
    "df_games['combined_features'] = (\n",
    "    df_games['developer'].apply(normalize_text) + ' ' +\n",
    "    df_games['genre'].apply(normalize_text) + ' ' +\n",
    "    df_games['specs'].apply(normalize_text)\n",
    ")\n",
    "\n",
    "print(df_games['combined'].head())\n"
   ]
  },
  {
   "cell_type": "code",
   "execution_count": 3,
   "metadata": {},
   "outputs": [],
   "source": [
    "# 5.Inicializamos el vectorizador TF-IDF\n",
    "vectorizer = TfidfVectorizer(stop_words='english')\n",
    "\n",
    "# 6. Aplicamos el vectorizador a la columna combinada\n",
    "tfidf_matrix = vectorizer.fit_transform(df_games['combined'])\n",
    "\n",
    "\n",
    "# 7.Calcular la matriz de similitud del coseno\n",
    "cosine_sim = cosine_similarity(tfidf_matrix, tfidf_matrix)\n",
    "\n",
    "'''\n",
    "# 7.1 de ser necesario guardar el resultado:\n",
    "\n",
    "-Guardar la matriz de similitud\n",
    "joblib.dump(cosine_sim, 'cosine_sim.joblib')\n",
    "\n",
    "-Guardar el vectorizador para usarlo más adelante\n",
    "joblib.dump(vectorizer, 'vectorizer.joblib')\n",
    "\n",
    "\n",
    "'''\n"
   ]
  },
  {
   "cell_type": "markdown",
   "metadata": {},
   "source": [
    "### Función de Recomendaciones\n",
    "Hemos desarrollado una función que genera recomendaciones basadas en los datos procesados anteriormente.\n",
    "-**Transformación**: Convierte el título del videojuego a minúsculas y elimina espacios en blanco.\n",
    "-**Búsqueda**: Localiza el índice del videojuego en el DataFrame df_games donde el título coincide.\n",
    "-**Verificación**: Si se encuentra el índice, se devuelve; de lo contrario, se lanza una excepción.\n",
    "Esta función permite acceder de manera eficiente a las recomendaciones más relevantes para los usuarios."
   ]
  },
  {
   "cell_type": "code",
   "execution_count": 27,
   "metadata": {},
   "outputs": [],
   "source": [
    "#8 . creamos la función: \n",
    "\n",
    "def get_index_from_title(game_title, df_games):\n",
    "    \n",
    "    game_title = game_title.lower().strip()\n",
    "    \n",
    "    # 8.1Buscamos el índice del juego cuyo título coincide con game_title\n",
    "    indices = df_games[df_games['app_name'].str.lower() == game_title].index\n",
    "    \n",
    "    #8.2 Verificamos si hay coincidencias\n",
    "    if not indices.empty:\n",
    "        return indices[0]\n",
    "    raise ValueError(\"Título no encontrado\")\n"
   ]
  },
  {
   "cell_type": "markdown",
   "metadata": {},
   "source": [
    "### Descripción del Proceso de Recomendación\n",
    "-**Obtención de Índice**: Se invoca la función get_index_from_title para localizar el índice del videojuego solicitado.\n",
    "-**Cálculo de Similitud**: Se calcula la similitud del coseno entre el videojuego elegido y los demás.\n",
    "-**Ordenación**: Los videojuegos se ordenan según su puntuación de similitud.\n",
    "-**Selección de Resultados**: Se extraen y devuelven los nombres de los 5 videojuegos más similares."
   ]
  },
  {
   "cell_type": "code",
   "execution_count": 28,
   "metadata": {},
   "outputs": [],
   "source": [
    "# 9. Función  de recomendación:\n",
    "\n",
    "def get_recommendations(game_title, df_games):\n",
    "\n",
    "    try:\n",
    "        # 9.1 Obtenemos el índice del videojuego buscado por título\n",
    "        idx = get_index_from_title(game_title, df_games)\n",
    "        \n",
    "        # 9.2Calculamos la similitud del coseno\n",
    "        cosine_sim = cosine_similarity(tfidf_matrix[idx], tfidf_matrix)\n",
    "        \n",
    "        # 9.3Enumeramos los videojuegos y se ordenan por su similitud\n",
    "        sim_scores = list(enumerate(cosine_sim[0]))\n",
    "        sim_scores = sorted(sim_scores, key=lambda x: x[1], reverse=True)\n",
    "        \n",
    "        # 9.4 Obtenemos los índices de los 5 videojuegos más similares\n",
    "        game_indices = [i[0] for i in sim_scores[1:6]]\n",
    "        \n",
    "        # 9.5 Devolvemos los nombres de los videojuegos recomendados\n",
    "        return df_games['app_name'].iloc[game_indices].tolist()\n",
    "   \n",
    "    except ValueError:\n",
    "        return [\"No se encontró el videojuego en los datos\"]\n"
   ]
  },
  {
   "cell_type": "markdown",
   "metadata": {},
   "source": [
    "### Ejemplo de Uso\n",
    "Al utilizar la función get_recommendations, asegúrate de que el tfidf_matrix ya esté calculado. A continuación se presenta un ejemplo de cómo implementarlo:"
   ]
  },
  {
   "cell_type": "code",
   "execution_count": 33,
   "metadata": {},
   "outputs": [
    {
     "name": "stdout",
     "output_type": "stream",
     "text": [
      "Recomendaciones: ['Talent Not Included', 'Ludwig', 'Will Glow the Wisp', 'Maze Up!', 'Air Conflicts: Secret Wars']\n"
     ]
    }
   ],
   "source": [
    "# 10.Llamada a la función con el título deseado\n",
    "resultados_recomendaciones = get_recommendations(\"Lew Pulsipher's Doomstar\", df_games)\n",
    "print(\"Recomendaciones:\", resultados_recomendaciones)\n"
   ]
  },
  {
   "cell_type": "markdown",
   "metadata": {},
   "source": [
    "### Gráfica"
   ]
  },
  {
   "cell_type": "code",
   "execution_count": 34,
   "metadata": {},
   "outputs": [
    {
     "data": {
      "image/png": "[encoded data removed]",
      "text/plain": [
       "<Figure size 1000x500 with 1 Axes>"
      ]
     },
     "metadata": {},
     "output_type": "display_data"
    }
   ],
   "source": [
    "import matplotlib.pyplot as plt\n",
    "\n",
    "\n",
    "# 11. Creamos una representacion gráfica de nuestra consulta:\n",
    "game_title = \"Lew Pulsipher's Doomstar\"\n",
    "\n",
    "# 11.1 Obtener recomendaciones\n",
    "recomendaciones = get_recommendations(game_title, df_games)\n",
    "\n",
    "# 11.2 Obtener la similitud para el gráfico\n",
    "idx = get_index_from_title(game_title, df_games)\n",
    "cosine_sim = cosine_similarity(tfidf_matrix[idx], tfidf_matrix)\n",
    "sim_scores = list(enumerate(cosine_sim[0]))\n",
    "sim_scores = sorted(sim_scores, key=lambda x: x[1], reverse=True)\n",
    "top_similarities = sim_scores[1:6]  # Top 5\n",
    "\n",
    "# 11.3 Crear DataFrame para el gráfico\n",
    "df_similarities = pd.DataFrame(top_similarities, columns=['Index', 'Similarity'])\n",
    "df_similarities['Game'] = df_games['app_name'].iloc[df_similarities['Index']].values\n",
    "\n",
    "# 11.4 Gráfico de barras\n",
    "plt.figure(figsize=(10, 5))\n",
    "plt.bar(df_similarities['Game'], df_similarities['Similarity'], color='yellow')\n",
    "plt.title('Similitud del Videojuego')\n",
    "plt.xlabel('Videojuegos Recomendados')\n",
    "plt.ylabel('Puntuación de Similitud')\n",
    "plt.xticks(rotation=45)\n",
    "plt.show()\n"
   ]
  }
 ],
 "metadata": {
  "kernelspec": {
   "display_name": "virtual",
   "language": "python",
   "name": "python3"
  },
  "language_info": {
   "codemirror_mode": {
    "name": "ipython",
    "version": 3
   },
   "file_extension": ".py",
   "mimetype": "text/x-python",
   "name": "python",
   "nbconvert_exporter": "python",
   "pygments_lexer": "ipython3",
   "version": "3.12.0"
  }
 },
 "nbformat": 4,
 "nbformat_minor": 2
}
